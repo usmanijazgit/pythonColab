{
  "nbformat": 4,
  "nbformat_minor": 0,
  "metadata": {
    "colab": {
      "provenance": [],
      "collapsed_sections": [],
      "toc_visible": true,
      "include_colab_link": true
    },
    "kernelspec": {
      "name": "python3",
      "display_name": "Python 3"
    },
    "language_info": {
      "name": "python"
    }
  },
  "cells": [
    {
      "cell_type": "markdown",
      "metadata": {
        "id": "view-in-github",
        "colab_type": "text"
      },
      "source": [
        "<a href=\"https://colab.research.google.com/github/usmanijazgit/pythonColab/blob/main/Back_end_medium.ipynb\" target=\"_parent\"><img src=\"https://colab.research.google.com/assets/colab-badge.svg\" alt=\"Open In Colab\"/></a>"
      ]
    },
    {
      "cell_type": "markdown",
      "source": [
        "# Back end medium"
      ],
      "metadata": {
        "id": "oFnRTPSlhYSr"
      }
    },
    {
      "cell_type": "markdown",
      "source": [
        "The code below initiates a number of commands based on user input, and then reads and writes information to an SQL database. \n",
        "Given a specific command it executes a function. It will be your job to define the behavior of these functions.\n",
        "\n",
        "First we need to install and import a python library to handle sql commands"
      ],
      "metadata": {
        "id": "7lgwLetFhdxb"
      }
    },
    {
      "cell_type": "code",
      "source": [
        "!pip install mysql\n",
        "!pip install mysql-connector-python-rf\n",
        "from mysql.connector import connect, Error"
      ],
      "metadata": {
        "colab": {
          "base_uri": "https://localhost:8080/"
        },
        "id": "1dUqAdJLhxp9",
        "outputId": "843787b3-19fd-4ae9-eb39-bce28ef5916d"
      },
      "execution_count": null,
      "outputs": [
        {
          "output_type": "stream",
          "name": "stdout",
          "text": [
            "Requirement already satisfied: mysql in /usr/local/lib/python3.7/dist-packages (0.0.3)\n",
            "Requirement already satisfied: mysqlclient in /usr/local/lib/python3.7/dist-packages (from mysql) (2.1.0)\n",
            "Requirement already satisfied: mysql-connector-python-rf in /usr/local/lib/python3.7/dist-packages (2.2.2)\n"
          ]
        }
      ]
    },
    {
      "cell_type": "markdown",
      "source": [
        "\n",
        "\n",
        "This next block of code connects to an sql database."
      ],
      "metadata": {
        "id": "NzBzh_Gcjlw0"
      }
    },
    {
      "cell_type": "code",
      "source": [
        "# establishing connection to mysql database with try catch statement\n",
        "try:\n",
        "    connection = connect(\n",
        "        host=\"pythonactivities.cotpafanc2of.eu-west-2.rds.amazonaws.com\",\n",
        "        user=\"admin\",\n",
        "        password=\"admin1234\",\n",
        "        database=\"PythonActivities\",\n",
        "    )\n",
        "except Error as e:\n",
        "    print(e)"
      ],
      "metadata": {
        "id": "VumrlZkwjX2e"
      },
      "execution_count": null,
      "outputs": []
    },
    {
      "cell_type": "markdown",
      "source": [
        "The next cell is where we set up the lists and dictionaries we will need for the rest of the functions."
      ],
      "metadata": {
        "id": "8ndoFpKRj-9z"
      }
    },
    {
      "cell_type": "code",
      "source": [
        "# initailising all variables\n",
        "cursor = connection.cursor()\n",
        "possibleCommands = [\"help\", \"add new recipe\", \"quit\", \"list all recipes\", \"search recipe\", \"sort recipes\"]\n",
        "commandExec = {}"
      ],
      "metadata": {
        "id": "eGRhou7jj3Wc"
      },
      "execution_count": null,
      "outputs": []
    },
    {
      "cell_type": "markdown",
      "source": [
        "### Example Functions"
      ],
      "metadata": {
        "id": "rikUkSXalSOA"
      }
    },
    {
      "cell_type": "markdown",
      "source": [
        "The following code shows how functions are defined and then added to the python dictionary of commands so the programme can easily call them."
      ],
      "metadata": {
        "id": "o-KhjMmrlVRW"
      }
    },
    {
      "cell_type": "code",
      "source": [
        "# print possible commands\n",
        "def HelpCommand():\n",
        "  print(\"Possible Commands: \", possibleCommands)\n",
        "  print(\"\")\n",
        "\n",
        "# add the new function to the commandExec dictionary\n",
        "commandExec[\"help\"] = HelpCommand"
      ],
      "metadata": {
        "id": "FnePhKXGld1Z"
      },
      "execution_count": null,
      "outputs": []
    },
    {
      "cell_type": "code",
      "source": [
        "# search for a specific recipe\n",
        "def SearchCommand():\n",
        "\n",
        "  # taking input for search\n",
        "  searchKey = input(\"Type here to search for recipes: \")\n",
        "\n",
        "  # running sql query to retrive item list where item name is like entered string\n",
        "  sql = \"\"\"SELECT * FROM PizzaRecipes WHERE pizzaName LIKE %s\"\"\"\n",
        "  adr = (\"%\"+searchKey+\"%\", )\n",
        "  cursor.execute(sql, adr)\n",
        "  records = cursor.fetchall()\n",
        "\n",
        "  # printing search results\n",
        "  print(\"Search result:\")\n",
        "  for row in records:\n",
        "      print(str(row[0]) + \" - \" + str(row[1]) + \": \" + str(row[3]) + \" = \" + str(row[2]))\n",
        "  print(\"\")\n",
        "\n",
        "commandExec[\"search recipe\"] = SearchCommand"
      ],
      "metadata": {
        "id": "H5DNf_zolEyZ"
      },
      "execution_count": null,
      "outputs": []
    },
    {
      "cell_type": "code",
      "source": [
        "# sort the list of recipes\n",
        "def SortCommand():\n",
        "\n",
        "  # printing possible sorting options\n",
        "  print(\"Please choose sorting type: \\n1 - ID Ascending\\n2 - ID Descending\\n3 - Name Ascending\\n4 - Name Descending\")\n",
        "  \n",
        "  # taking sort type as input\n",
        "  sortID = input(\"Please enter sort type (number): \").strip().lower()\n",
        "  \n",
        "  # checking if sort type 1 is chosen\n",
        "  if sortID == \"1\":\n",
        "  \n",
        "      # running sql query to retrive sorted item list\n",
        "      sql_select_Query = \"select * from PizzaRecipes ORDER BY pizzaID\"\n",
        "      cursor.execute(sql_select_Query)\n",
        "  \n",
        "  # checking if sort type 2 is chosen\n",
        "  if sortID == \"2\":\n",
        "  \n",
        "      # running sql query to retrive sorted item list\n",
        "      sql_select_Query = \"select * from PizzaRecipes ORDER BY pizzaID DESC\"\n",
        "      cursor.execute(sql_select_Query)\n",
        "  \n",
        "  # checking if sort type 3 is chosen\n",
        "  if sortID == \"3\":\n",
        "  \n",
        "      # running sql query to retrive sorted item list\n",
        "      sql_select_Query = \"select * from PizzaRecipes ORDER BY pizzaName\"\n",
        "      cursor.execute(sql_select_Query)\n",
        "  \n",
        "  # checking if sort type 4 is chosen\n",
        "  if sortID == \"4\":\n",
        "  \n",
        "      # running sql query to retrive sorted item list\n",
        "      sql_select_Query = \"select * from PizzaRecipes ORDER BY pizzaName DESC\"\n",
        "      cursor.execute(sql_select_Query)\n",
        "  \n",
        "  # fetching queried data\n",
        "  records = cursor.fetchall()\n",
        "  \n",
        "  # printing item list with for loop\n",
        "  for row in records:\n",
        "      print(str(row[0]) + \" - \" + str(row[1]) + \": \" + str(row[3]) + \" = \" + str(row[2]))\n",
        "  print(\"\")\n",
        "\n",
        "commandExec[\"sort recipes\"] = SortCommand"
      ],
      "metadata": {
        "id": "6eIdHWNDmXuN"
      },
      "execution_count": null,
      "outputs": []
    },
    {
      "cell_type": "markdown",
      "source": [
        "### Activity 1"
      ],
      "metadata": {
        "id": "zQaKaWwYk0_c"
      }
    },
    {
      "cell_type": "markdown",
      "source": [
        "This first activity is a nice warmup. Complete the function below to display a goodbye message and close the program."
      ],
      "metadata": {
        "id": "UhqmPKGdk9im"
      }
    },
    {
      "cell_type": "code",
      "source": [
        "# quit the program\n",
        "def QuitCommand():\n",
        "\n",
        "  # Activity: display goodbye message before closing\n",
        "  print(\"\")\n",
        "\n",
        "  # this weird code beneath is for exiting the runtime in google colab, for a normal python programme we would use exit() or quit() instead\n",
        "  !kill -9 -1\n",
        "\n",
        "commandExec[\"quit\"] = QuitCommand"
      ],
      "metadata": {
        "id": "fBZ-eAfgk-ol"
      },
      "execution_count": null,
      "outputs": []
    },
    {
      "cell_type": "markdown",
      "source": [
        "### Activity 2"
      ],
      "metadata": {
        "id": "z4u1bb0-KHfo"
      }
    },
    {
      "cell_type": "markdown",
      "source": [
        "This next activity requires you to write the sql command to ask the database to return a list of all of the recipes. "
      ],
      "metadata": {
        "id": "FtSouqUOKKyD"
      }
    },
    {
      "cell_type": "code",
      "source": [
        "  # running sql query to retrive item list\n",
        "  def ListCommand():\n",
        "\n",
        "    # ACTIVITY 2\n",
        "    # Please insert list item (select) sql command here\n",
        "    sql_select_Query = \"\"\n",
        "\n",
        "    cursor.execute(sql_select_Query)\n",
        "    records = cursor.fetchall()\n",
        "    # printing item list with for loop\n",
        "    print(\"List of Recipes:\")\n",
        "    for row in records:\n",
        "        print(str(row[0]) + \" - \" + str(row[1]) + \": \" + str(row[3]) + \" = \" + str(row[2]))\n",
        "    print(\"\")\n",
        "  \n",
        "  commandExec[\"list all recipes\"] = ListCommand"
      ],
      "metadata": {
        "id": "mcPL5DZXKJjC"
      },
      "execution_count": null,
      "outputs": []
    },
    {
      "cell_type": "markdown",
      "source": [
        "### Activity 3 & 4"
      ],
      "metadata": {
        "id": "Bje56fIaLWOp"
      }
    },
    {
      "cell_type": "markdown",
      "source": [
        "In activity 3 you wil need to add an sql command to insert an item into the database. In activity 4 you will need to write the sql command to ask the database to return a list of all recipes so the user can ensure the new recipe has been correctly included in the database."
      ],
      "metadata": {
        "id": "Zev2Vo57LaWb"
      }
    },
    {
      "cell_type": "code",
      "source": [
        "# add a new recipe to the database\n",
        "def AddCommand():\n",
        "\n",
        "  # taking new item name as input\n",
        "  newItemName = input(\"Please enter new Pizza name: \")\n",
        "  newItemPrice = input(\"Please enter new Pizza price: \")\n",
        "  newItemDescription = input(\"Please enter new Pizza Ingredients: \")\n",
        "  # inserting new item into database\n",
        "\n",
        "  # ACTIVITY 3\n",
        "  # Please insert add item (insert) sql command here\n",
        "  sql = \"\"\n",
        "\n",
        "  val = (\"NULL\", newItemName, newItemPrice, newItemDescription)\n",
        "  cursor.execute(sql, val)\n",
        "  connection.commit()\n",
        "  \n",
        "  # running sql query to retrive updated item list\n",
        "\n",
        "  # ACTIVITY 4\n",
        "  # Please insert list item (select) sql command here\n",
        "  sql_select_Query = \"\"\n",
        "\n",
        "  cursor.execute(sql_select_Query)\n",
        "  records = cursor.fetchall()\n",
        "\n",
        "  # printing updated item list with for loop\n",
        "  print(\"Updated List of Recipes:\")\n",
        "  for row in records:\n",
        "      print(str(row[0]) + \" - \" + str(row[1]) + \": \" + str(row[3]) + \" = \" + str(row[2]))\n",
        "  print(\"\")\n",
        "\n",
        "commandExec[\"add new recipe\"] = AddCommand"
      ],
      "metadata": {
        "id": "UL4gB-HwLCxJ"
      },
      "execution_count": null,
      "outputs": []
    },
    {
      "cell_type": "markdown",
      "source": [
        "### Activity 5 & 6"
      ],
      "metadata": {
        "id": "UvPzrchvPzFS"
      }
    },
    {
      "cell_type": "markdown",
      "source": [
        "The function below is used to print an error message and remind the user of the commands they can use. This function will be called if they do not enter a command in the list of possible commands. Your job is to write a print statement for the error message, and a seperate print statement listing the possible commands."
      ],
      "metadata": {
        "id": "eaEoOLxeVAOg"
      }
    },
    {
      "cell_type": "code",
      "source": [
        "# error handler if no valid commands are called\n",
        "def ErrorHandler():\n",
        "\n",
        "  # ACTIVITY 5 & 6\n",
        "  # print error message here and all possible commands (use seperate print statements)\n",
        "  \n",
        "  print(\"\")"
      ],
      "metadata": {
        "id": "px-va6_DU_jl"
      },
      "execution_count": null,
      "outputs": []
    },
    {
      "cell_type": "markdown",
      "source": [
        "### Main Code"
      ],
      "metadata": {
        "id": "YEOlSHHAV-R5"
      }
    },
    {
      "cell_type": "markdown",
      "source": [
        "Beneath is a while loop in which we will make up the body of our programme. It contains a while loop which will allow the user to continually enter commands until they quit the program."
      ],
      "metadata": {
        "id": "cmFVew_gWFUT"
      }
    },
    {
      "cell_type": "code",
      "source": [
        "while True:\n",
        "\n",
        "  # converting entered command to lower case and remove any spaces at start and end of command\n",
        "  command = input(\"Please enter command: \").strip().lower()\n",
        "\n",
        "  while command not in possibleCommands:\n",
        "    ErrorHandler()\n",
        "\n",
        "    # take in new correct command\n",
        "    command = input(\"Please enter command: \").strip().lower()\n",
        "\n",
        "  commandExec[command]();\n"
      ],
      "metadata": {
        "colab": {
          "base_uri": "https://localhost:8080/"
        },
        "id": "AE4hqOofWCtL",
        "outputId": "96fdc30e-0e61-4d03-c533-40a94dfc19f8"
      },
      "execution_count": null,
      "outputs": [
        {
          "name": "stdout",
          "output_type": "stream",
          "text": [
            "Please enter command: help\n",
            "Possible Commands:  ['help', 'add new recipe', 'quit', 'list all recipes', 'search recipe', 'sort recipes']\n",
            "\n",
            "Please enter command: search recipe\n",
            "Type here to search for recipes: pineapple\n",
            "Search result:\n",
            "1 - pineapple: pineapple and pepperoni = 1.00\n",
            "\n",
            "Please enter command: quit\n"
          ]
        }
      ]
    }
  ]
}